{
 "cells": [
  {
   "cell_type": "code",
   "execution_count": 1,
   "metadata": {},
   "outputs": [],
   "source": [
    "import os\n",
    "import sys\n",
    "import json\n",
    "import albumentations as A\n",
    "\n",
    "module_path = os.path.abspath(os.path.join('../'))\n",
    "if module_path not in sys.path:\n",
    "    sys.path.append(module_path)\n",
    "    \n",
    "from building_footprint_segmentation.segmentation import init_segmentation, read_trainer_config\n",
    "from building_footprint_segmentation.helpers.callbacks import CallbackList, load_callback\n",
    "from building_footprint_segmentation.trainer import Trainer"
   ]
  },
  {
   "attachments": {},
   "cell_type": "markdown",
   "metadata": {},
   "source": [
    "### Initalize type of segmentation to run for building footprint"
   ]
  },
  {
   "cell_type": "code",
   "execution_count": 2,
   "metadata": {},
   "outputs": [],
   "source": [
    "segmentation = init_segmentation(\"binary\")"
   ]
  },
  {
   "attachments": {},
   "cell_type": "markdown",
   "metadata": {},
   "source": [
    "### Defining augmenters to use"
   ]
  },
  {
   "cell_type": "code",
   "execution_count": 3,
   "metadata": {},
   "outputs": [
    {
     "name": "stderr",
     "output_type": "stream",
     "text": [
      "/home/complexion/miniconda3/lib/python3.8/site-packages/albumentations/augmentations/transforms.py:1149: FutureWarning: This class has been deprecated. Please use RandomBrightnessContrast\n",
      "  warnings.warn(\n",
      "/home/complexion/miniconda3/lib/python3.8/site-packages/albumentations/augmentations/transforms.py:1175: FutureWarning: RandomContrast has been deprecated. Please use RandomBrightnessContrast\n",
      "  warnings.warn(\n"
     ]
    }
   ],
   "source": [
    "augmenters = A.Compose([\n",
    "    A.HorizontalFlip(p=0.5),\n",
    "    A.RandomBrightnessContrast(p=0.2),\n",
    "    \n",
    "    # 추가\n",
    "    A.ShiftScaleRotate(scale_limit=0.5, rotate_limit=0, shift_limit=0.1, p=0.5, border_mode=0),\n",
    "    \n",
    "    A.PadIfNeeded(min_height=128, min_width=128, always_apply=True, border_mode=0),\n",
    "    A.RandomCrop(height=128, width=128, always_apply=True),\n",
    "\n",
    "    A.OneOf(\n",
    "    [\n",
    "        A.CLAHE(p=1),\n",
    "        A.RandomBrightness(p=1),\n",
    "        A.RandomGamma(p=1),\n",
    "    ],\n",
    "    p=0.8,\n",
    "    ),\n",
    "    \n",
    "    A.OneOf(\n",
    "        [\n",
    "            A.Blur(blur_limit=3, p=1),\n",
    "            A.MotionBlur(blur_limit=3, p=1),\n",
    "        ],\n",
    "        p=0.8,\n",
    "    ),\n",
    "    \n",
    "    A.OneOf(\n",
    "        [\n",
    "            A.RandomContrast(p=1),\n",
    "            A.HueSaturationValue(p=1),\n",
    "        ],\n",
    "        p=0.8,\n",
    "    ),\n",
    "    \n",
    "])"
   ]
  },
  {
   "attachments": {},
   "cell_type": "markdown",
   "metadata": {},
   "source": [
    "### Load essential segmentation objects for training"
   ]
  },
  {
   "cell_type": "code",
   "execution_count": 4,
   "metadata": {},
   "outputs": [
    {
     "name": "stderr",
     "output_type": "stream",
     "text": [
      "/home/complexion/.local/lib/python3.8/site-packages/torchvision/models/_utils.py:208: UserWarning: The parameter 'pretrained' is deprecated since 0.13 and may be removed in the future, please use 'weights' instead.\n",
      "  warnings.warn(\n",
      "/home/complexion/.local/lib/python3.8/site-packages/torchvision/models/_utils.py:223: UserWarning: Arguments other than a weight enum or `None` for 'weights' are deprecated since 0.13 and may be removed in the future. The current behavior is equivalent to passing `weights=ResNet50_Weights.IMAGENET1K_V1`. You can also use `weights=ResNet50_Weights.DEFAULT` to get the most up-to-date weights.\n",
      "  warnings.warn(msg)\n"
     ]
    }
   ],
   "source": [
    "model = segmentation.load_model(name=\"ReFineNet\")\n",
    "criterion = segmentation.load_criterion(name=\"Dice\",dice_weight=0.7)\n"
   ]
  },
  {
   "cell_type": "code",
   "execution_count": 5,
   "metadata": {},
   "outputs": [],
   "source": [
    "loader = segmentation.load_loader(\n",
    "    root_folder=r\"data\",\n",
    "    image_normalization=\"divide_by_255\",\n",
    "    label_normalization=\"binary_label\",\n",
    "    augmenters=augmenters,\n",
    "    batch_size=16,\n",
    ")\n"
   ]
  },
  {
   "cell_type": "code",
   "execution_count": 6,
   "metadata": {},
   "outputs": [],
   "source": [
    "metrics = segmentation.load_metrics(\n",
    "    data_metrics=[\"precision\", \"f1\", \"recall\", \"iou\", \"dice\"]\n",
    ")\n",
    "\n",
    "# optimizer = segmentation.load_optimizer(model, name=\"Adam\")\n",
    "optimizer = segmentation.load_optimizer(model, name=\"SGD\",lr=0.05)\n",
    "\n",
    "callbacks = CallbackList()\n",
    "# Ouptut from all the callbacks caller will be stored at the path specified in log_dir\n",
    "for caller in  [\"TrainChkCallback\", \"TimeCallback\", \"TensorBoardCallback\", \"TrainStateCallback\"]:\n",
    "    callbacks.append(load_callback(r\"out_data\", caller))"
   ]
  },
  {
   "attachments": {},
   "cell_type": "markdown",
   "metadata": {},
   "source": [
    "### Initalize the Trainer object\n"
   ]
  },
  {
   "cell_type": "code",
   "execution_count": 7,
   "metadata": {},
   "outputs": [],
   "source": [
    "trainer = Trainer(\n",
    "    model=model,\n",
    "    criterion=criterion,\n",
    "    loader=loader,\n",
    "    metrics=metrics,\n",
    "    callbacks=callbacks,\n",
    "    optimizer=optimizer,\n",
    "    scheduler=None,\n",
    ")"
   ]
  },
  {
   "attachments": {},
   "cell_type": "markdown",
   "metadata": {},
   "source": [
    "### Start training\n"
   ]
  },
  {
   "cell_type": "code",
   "execution_count": 8,
   "metadata": {},
   "outputs": [
    {
     "name": "stderr",
     "output_type": "stream",
     "text": [
      "Epoch 0, lr 0.05: 100%|██████████| 74576/74576 [11:57<00:00, 103.97it/s, loss=0.31134]\n"
     ]
    },
    {
     "name": "stdout",
     "output_type": "stream",
     "text": [
      "\u001b[1;37m>>\u001b[KPy-OneLiner : \u001b[36mLoss\u001b[0m : \u001b[30mtrain: 0.31134341575205327, validation: 0.2385651854920809\u001b[0m\n",
      "\u001b[1;37m>>\u001b[KPy-OneLiner : \u001b[36mTrain Metric\u001b[0m : \u001b[30mprecision : 0.62394, f1 : 0.58532, recall : 0.59714, iou : 0.43467, dice : 0.58532\u001b[0m\n",
      "\u001b[1;37m>>\u001b[KPy-OneLiner : \u001b[36mValid Metric\u001b[0m : \u001b[30mprecision : 0.72653, f1 : 0.72928, recall : 0.74463, iou : 0.58014, dice : 0.72928\u001b[0m"
     ]
    },
    {
     "name": "stderr",
     "output_type": "stream",
     "text": [
      "Epoch 1, lr 0.05: 100%|██████████| 74576/74576 [11:50<00:00, 104.91it/s, loss=0.29168]\n"
     ]
    },
    {
     "name": "stdout",
     "output_type": "stream",
     "text": [
      "\u001b[1;37m>>\u001b[KPy-OneLiner : \u001b[36mLoss\u001b[0m : \u001b[30mtrain: 0.2916848935186863, validation: 0.2183259292623075\u001b[0mm\n",
      "\u001b[1;37m>>\u001b[KPy-OneLiner : \u001b[36mTrain Metric\u001b[0m : \u001b[30mprecision : 0.70225, f1 : 0.66825, recall : 0.67064, iou : 0.51723, dice : 0.66825\u001b[0m\n",
      "\u001b[1;37m>>\u001b[KPy-OneLiner : \u001b[36mValid Metric\u001b[0m : \u001b[30mprecision : 0.76746, f1 : 0.74989, recall : 0.74273, iou : 0.60561, dice : 0.74989\u001b[0m"
     ]
    },
    {
     "name": "stderr",
     "output_type": "stream",
     "text": [
      "Epoch 2, lr 0.05: 100%|██████████| 74576/74576 [11:49<00:00, 105.10it/s, loss=0.24746]\n"
     ]
    },
    {
     "name": "stdout",
     "output_type": "stream",
     "text": [
      "\u001b[1;37m>>\u001b[KPy-OneLiner : \u001b[36mLoss\u001b[0m : \u001b[30mtrain: 0.24746097959578037, validation: 0.20709453440983505\u001b[0m\n",
      "\u001b[1;37m>>\u001b[KPy-OneLiner : \u001b[36mTrain Metric\u001b[0m : \u001b[30mprecision : 0.71507, f1 : 0.68417, recall : 0.68614, iou : 0.53572, dice : 0.68417\u001b[0m\n",
      "\u001b[1;37m>>\u001b[KPy-OneLiner : \u001b[36mValid Metric\u001b[0m : \u001b[30mprecision : 0.78117, f1 : 0.76456, recall : 0.75838, iou : 0.62482, dice : 0.76456\u001b[0m"
     ]
    },
    {
     "name": "stderr",
     "output_type": "stream",
     "text": [
      "Epoch 3, lr 0.05: 100%|██████████| 74576/74576 [11:49<00:00, 105.16it/s, loss=0.25797]\n"
     ]
    },
    {
     "name": "stdout",
     "output_type": "stream",
     "text": [
      "\u001b[1;37m>>\u001b[KPy-OneLiner : \u001b[36mLoss\u001b[0m : \u001b[30mtrain: 0.2579654459655285, validation: 0.20542453885657572\u001b[0m\n",
      "\u001b[1;37m>>\u001b[KPy-OneLiner : \u001b[36mTrain Metric\u001b[0m : \u001b[30mprecision : 0.72695, f1 : 0.69492, recall : 0.69552, iou : 0.54867, dice : 0.69492\u001b[0m\n",
      "\u001b[1;37m>>\u001b[KPy-OneLiner : \u001b[36mValid Metric\u001b[0m : \u001b[30mprecision : 0.79580, f1 : 0.76686, recall : 0.74900, iou : 0.62778, dice : 0.76686\u001b[0m"
     ]
    },
    {
     "name": "stderr",
     "output_type": "stream",
     "text": [
      "Epoch 4, lr 0.05: 100%|██████████| 74576/74576 [11:44<00:00, 105.87it/s, loss=0.25570]\n"
     ]
    },
    {
     "name": "stdout",
     "output_type": "stream",
     "text": [
      "\u001b[1;37m>>\u001b[KPy-OneLiner : \u001b[36mLoss\u001b[0m : \u001b[30mtrain: 0.2556986530125141, validation: 0.19794504776797897\u001b[0m\n",
      "\u001b[1;37m>>\u001b[KPy-OneLiner : \u001b[36mTrain Metric\u001b[0m : \u001b[30mprecision : 0.72799, f1 : 0.69828, recall : 0.69969, iou : 0.55227, dice : 0.69828\u001b[0m\n",
      "\u001b[1;37m>>\u001b[KPy-OneLiner : \u001b[36mValid Metric\u001b[0m : \u001b[30mprecision : 0.80539, f1 : 0.77267, recall : 0.75166, iou : 0.63543, dice : 0.77267\u001b[0m"
     ]
    },
    {
     "name": "stderr",
     "output_type": "stream",
     "text": [
      "Epoch 5, lr 0.05: 100%|██████████| 74576/74576 [11:44<00:00, 105.89it/s, loss=0.23459]\n"
     ]
    },
    {
     "name": "stdout",
     "output_type": "stream",
     "text": [
      "\u001b[1;37m>>\u001b[KPy-OneLiner : \u001b[36mLoss\u001b[0m : \u001b[30mtrain: 0.23458876758813857, validation: 0.1890373473350449\u001b[0m\n",
      "\u001b[1;37m>>\u001b[KPy-OneLiner : \u001b[36mTrain Metric\u001b[0m : \u001b[30mprecision : 0.74117, f1 : 0.71324, recall : 0.71359, iou : 0.56962, dice : 0.71324\u001b[0m\n",
      "\u001b[1;37m>>\u001b[KPy-OneLiner : \u001b[36mValid Metric\u001b[0m : \u001b[30mprecision : 0.78819, f1 : 0.78350, recall : 0.78766, iou : 0.65011, dice : 0.78350\u001b[0m"
     ]
    },
    {
     "name": "stderr",
     "output_type": "stream",
     "text": [
      "Epoch 6, lr 0.05: 100%|██████████| 74576/74576 [11:41<00:00, 106.35it/s, loss=0.25042]\n"
     ]
    },
    {
     "name": "stdout",
     "output_type": "stream",
     "text": [
      "\u001b[1;37m>>\u001b[KPy-OneLiner : \u001b[36mLoss\u001b[0m : \u001b[30mtrain: 0.2504223111271858, validation: 0.18615695496718465\u001b[0m\n",
      "\u001b[1;37m>>\u001b[KPy-OneLiner : \u001b[36mTrain Metric\u001b[0m : \u001b[30mprecision : 0.74780, f1 : 0.72193, recall : 0.72262, iou : 0.57969, dice : 0.72193\u001b[0m\n",
      "\u001b[1;37m>>\u001b[KPy-OneLiner : \u001b[36mValid Metric\u001b[0m : \u001b[30mprecision : 0.77023, f1 : 0.78804, recall : 0.81541, iou : 0.65584, dice : 0.78804\u001b[0m"
     ]
    },
    {
     "name": "stderr",
     "output_type": "stream",
     "text": [
      "Epoch 7, lr 0.05: 100%|██████████| 74576/74576 [11:41<00:00, 106.29it/s, loss=0.23555]\n"
     ]
    },
    {
     "name": "stdout",
     "output_type": "stream",
     "text": [
      "\u001b[1;37m>>\u001b[KPy-OneLiner : \u001b[36mLoss\u001b[0m : \u001b[30mtrain: 0.23555480659008027, validation: 0.2740008430568507\u001b[0m\n",
      "\u001b[1;37m>>\u001b[KPy-OneLiner : \u001b[36mTrain Metric\u001b[0m : \u001b[30mprecision : 0.75144, f1 : 0.72482, recall : 0.72498, iou : 0.58336, dice : 0.72482\u001b[0m\n",
      "\u001b[1;37m>>\u001b[KPy-OneLiner : \u001b[36mValid Metric\u001b[0m : \u001b[30mprecision : 0.85603, f1 : 0.67829, recall : 0.57284, iou : 0.52185, dice : 0.67829\u001b[0m"
     ]
    },
    {
     "name": "stderr",
     "output_type": "stream",
     "text": [
      "Epoch 8, lr 0.05: 100%|██████████| 74576/74576 [11:40<00:00, 106.43it/s, loss=0.24360]\n"
     ]
    },
    {
     "name": "stdout",
     "output_type": "stream",
     "text": [
      "\u001b[1;37m>>\u001b[KPy-OneLiner : \u001b[36mLoss\u001b[0m : \u001b[30mtrain: 0.243595000654459, validation: 0.18280871333397863\u001b[0mm\n",
      "\u001b[1;37m>>\u001b[KPy-OneLiner : \u001b[36mTrain Metric\u001b[0m : \u001b[30mprecision : 0.75403, f1 : 0.72744, recall : 0.72724, iou : 0.58710, dice : 0.72744\u001b[0m\n",
      "\u001b[1;37m>>\u001b[KPy-OneLiner : \u001b[36mValid Metric\u001b[0m : \u001b[30mprecision : 0.82477, f1 : 0.78942, recall : 0.76504, iou : 0.65815, dice : 0.78942\u001b[0m"
     ]
    },
    {
     "name": "stderr",
     "output_type": "stream",
     "text": [
      "Epoch 9, lr 0.05: 100%|██████████| 74576/74576 [11:40<00:00, 106.51it/s, loss=0.21692]\n"
     ]
    },
    {
     "name": "stdout",
     "output_type": "stream",
     "text": [
      "\u001b[1;37m>>\u001b[KPy-OneLiner : \u001b[36mLoss\u001b[0m : \u001b[30mtrain: 0.2169167122244835, validation: 0.18294478941536627\u001b[0m\n",
      "\u001b[1;37m>>\u001b[KPy-OneLiner : \u001b[36mTrain Metric\u001b[0m : \u001b[30mprecision : 0.75830, f1 : 0.73118, recall : 0.73049, iou : 0.59124, dice : 0.73118\u001b[0m\n",
      "\u001b[1;37m>>\u001b[KPy-OneLiner : \u001b[36mValid Metric\u001b[0m : \u001b[30mprecision : 0.76203, f1 : 0.79228, recall : 0.83617, iou : 0.66243, dice : 0.79228\u001b[0m"
     ]
    },
    {
     "name": "stderr",
     "output_type": "stream",
     "text": [
      "Epoch 10, lr 0.05: 100%|██████████| 74576/74576 [11:45<00:00, 105.78it/s, loss=0.25450]\n"
     ]
    },
    {
     "name": "stdout",
     "output_type": "stream",
     "text": [
      "\u001b[1;37m>>\u001b[KPy-OneLiner : \u001b[36mLoss\u001b[0m : \u001b[30mtrain: 0.25449828125536444, validation: 0.18903137034415698\u001b[0m\n",
      "\u001b[1;37m>>\u001b[KPy-OneLiner : \u001b[36mTrain Metric\u001b[0m : \u001b[30mprecision : 0.76235, f1 : 0.73505, recall : 0.73427, iou : 0.59610, dice : 0.73505\u001b[0m\n",
      "\u001b[1;37m>>\u001b[KPy-OneLiner : \u001b[36mValid Metric\u001b[0m : \u001b[30mprecision : 0.77382, f1 : 0.78516, recall : 0.80649, iou : 0.65227, dice : 0.78516\u001b[0m"
     ]
    },
    {
     "name": "stderr",
     "output_type": "stream",
     "text": [
      "Epoch 11, lr 0.05: 100%|██████████| 74576/74576 [11:45<00:00, 105.64it/s, loss=0.20290]\n"
     ]
    },
    {
     "name": "stdout",
     "output_type": "stream",
     "text": [
      "\u001b[1;37m>>\u001b[KPy-OneLiner : \u001b[36mLoss\u001b[0m : \u001b[30mtrain: 0.20290067620575428, validation: 0.1763598797712423\u001b[0m\n",
      "\u001b[1;37m>>\u001b[KPy-OneLiner : \u001b[36mTrain Metric\u001b[0m : \u001b[30mprecision : 0.76468, f1 : 0.73787, recall : 0.73567, iou : 0.59898, dice : 0.73787\u001b[0m\n",
      "\u001b[1;37m>>\u001b[KPy-OneLiner : \u001b[36mValid Metric\u001b[0m : \u001b[30mprecision : 0.78410, f1 : 0.79878, recall : 0.82197, iou : 0.67025, dice : 0.79878\u001b[0m"
     ]
    },
    {
     "name": "stderr",
     "output_type": "stream",
     "text": [
      "Epoch 12, lr 0.05: 100%|██████████| 74576/74576 [11:47<00:00, 105.45it/s, loss=0.23586]\n"
     ]
    },
    {
     "name": "stdout",
     "output_type": "stream",
     "text": [
      "\u001b[1;37m>>\u001b[KPy-OneLiner : \u001b[36mLoss\u001b[0m : \u001b[30mtrain: 0.23586073957383633, validation: 0.19957713988095688\u001b[0m\n",
      "\u001b[1;37m>>\u001b[KPy-OneLiner : \u001b[36mTrain Metric\u001b[0m : \u001b[30mprecision : 0.76372, f1 : 0.73623, recall : 0.73394, iou : 0.59758, dice : 0.73623\u001b[0m\n",
      "\u001b[1;37m>>\u001b[KPy-OneLiner : \u001b[36mValid Metric\u001b[0m : \u001b[30mprecision : 0.74147, f1 : 0.77354, recall : 0.81887, iou : 0.63585, dice : 0.77354\u001b[0m"
     ]
    },
    {
     "name": "stderr",
     "output_type": "stream",
     "text": [
      "Epoch 13, lr 0.05: 100%|██████████| 74576/74576 [11:46<00:00, 105.55it/s, loss=0.22267]\n"
     ]
    },
    {
     "name": "stdout",
     "output_type": "stream",
     "text": [
      "\u001b[1;37m>>\u001b[KPy-OneLiner : \u001b[36mLoss\u001b[0m : \u001b[30mtrain: 0.22267256505787372, validation: 0.1757594844018545\u001b[0m\n",
      "\u001b[1;37m>>\u001b[KPy-OneLiner : \u001b[36mTrain Metric\u001b[0m : \u001b[30mprecision : 0.76157, f1 : 0.73598, recall : 0.73605, iou : 0.59773, dice : 0.73598\u001b[0m\n",
      "\u001b[1;37m>>\u001b[KPy-OneLiner : \u001b[36mValid Metric\u001b[0m : \u001b[30mprecision : 0.80509, f1 : 0.79807, recall : 0.79942, iou : 0.66960, dice : 0.79807\u001b[0m"
     ]
    },
    {
     "name": "stderr",
     "output_type": "stream",
     "text": [
      "Epoch 14, lr 0.05: 100%|██████████| 74576/74576 [11:40<00:00, 106.52it/s, loss=0.25214]\n"
     ]
    },
    {
     "name": "stdout",
     "output_type": "stream",
     "text": [
      "\u001b[1;37m>>\u001b[KPy-OneLiner : \u001b[36mLoss\u001b[0m : \u001b[30mtrain: 0.25214031897485256, validation: 0.17682412656999769\u001b[0m\n",
      "\u001b[1;37m>>\u001b[KPy-OneLiner : \u001b[36mTrain Metric\u001b[0m : \u001b[30mprecision : 0.76687, f1 : 0.74152, recall : 0.74110, iou : 0.60408, dice : 0.74152\u001b[0m\n",
      "\u001b[1;37m>>\u001b[KPy-OneLiner : \u001b[36mValid Metric\u001b[0m : \u001b[30mprecision : 0.79455, f1 : 0.79903, recall : 0.81309, iou : 0.67160, dice : 0.79903\u001b[0m"
     ]
    },
    {
     "name": "stderr",
     "output_type": "stream",
     "text": [
      "Epoch 15, lr 0.05: 100%|██████████| 74576/74576 [11:44<00:00, 105.90it/s, loss=0.20053]\n"
     ]
    },
    {
     "name": "stdout",
     "output_type": "stream",
     "text": [
      "\u001b[1;37m>>\u001b[KPy-OneLiner : \u001b[36mLoss\u001b[0m : \u001b[30mtrain: 0.2005268433690071, validation: 0.1727941340130313\u001b[0mm\n",
      "\u001b[1;37m>>\u001b[KPy-OneLiner : \u001b[36mTrain Metric\u001b[0m : \u001b[30mprecision : 0.77383, f1 : 0.74972, recall : 0.74840, iou : 0.61412, dice : 0.74972\u001b[0m\n",
      "\u001b[1;37m>>\u001b[KPy-OneLiner : \u001b[36mValid Metric\u001b[0m : \u001b[30mprecision : 0.79331, f1 : 0.80271, recall : 0.82072, iou : 0.67598, dice : 0.80271\u001b[0m"
     ]
    },
    {
     "name": "stderr",
     "output_type": "stream",
     "text": [
      "Epoch 16, lr 0.05: 100%|██████████| 74576/74576 [11:41<00:00, 106.32it/s, loss=0.23308]\n"
     ]
    },
    {
     "name": "stdout",
     "output_type": "stream",
     "text": [
      "\u001b[1;37m>>\u001b[KPy-OneLiner : \u001b[36mLoss\u001b[0m : \u001b[30mtrain: 0.23307632103562356, validation: 0.2147326634072435\u001b[0m\n",
      "\u001b[1;37m>>\u001b[KPy-OneLiner : \u001b[36mTrain Metric\u001b[0m : \u001b[30mprecision : 0.77644, f1 : 0.75196, recall : 0.75042, iou : 0.61685, dice : 0.75196\u001b[0m\n",
      "\u001b[1;37m>>\u001b[KPy-OneLiner : \u001b[36mValid Metric\u001b[0m : \u001b[30mprecision : 0.68298, f1 : 0.75843, recall : 0.86523, iou : 0.61778, dice : 0.75843\u001b[0m"
     ]
    },
    {
     "name": "stderr",
     "output_type": "stream",
     "text": [
      "Epoch 17, lr 0.05: 100%|██████████| 74576/74576 [11:48<00:00, 105.32it/s, loss=0.20536]\n"
     ]
    },
    {
     "name": "stdout",
     "output_type": "stream",
     "text": [
      "\u001b[1;37m>>\u001b[KPy-OneLiner : \u001b[36mLoss\u001b[0m : \u001b[30mtrain: 0.2053584886714816, validation: 0.163844558915139\u001b[0mmm\n",
      "\u001b[1;37m>>\u001b[KPy-OneLiner : \u001b[36mTrain Metric\u001b[0m : \u001b[30mprecision : 0.77894, f1 : 0.75592, recall : 0.75521, iou : 0.62182, dice : 0.75592\u001b[0m\n",
      "\u001b[1;37m>>\u001b[KPy-OneLiner : \u001b[36mValid Metric\u001b[0m : \u001b[30mprecision : 0.81685, f1 : 0.81210, recall : 0.81521, iou : 0.68912, dice : 0.81210\u001b[0m"
     ]
    },
    {
     "name": "stderr",
     "output_type": "stream",
     "text": [
      "Epoch 18, lr 0.05: 100%|██████████| 74576/74576 [11:42<00:00, 106.20it/s, loss=0.19667]\n"
     ]
    },
    {
     "name": "stdout",
     "output_type": "stream",
     "text": [
      "\u001b[1;37m>>\u001b[KPy-OneLiner : \u001b[36mLoss\u001b[0m : \u001b[30mtrain: 0.1966713536530733, validation: 0.17471765771805614\u001b[0m\n",
      "\u001b[1;37m>>\u001b[KPy-OneLiner : \u001b[36mTrain Metric\u001b[0m : \u001b[30mprecision : 0.77665, f1 : 0.75261, recall : 0.75176, iou : 0.61758, dice : 0.75261\u001b[0m\n",
      "\u001b[1;37m>>\u001b[KPy-OneLiner : \u001b[36mValid Metric\u001b[0m : \u001b[30mprecision : 0.80609, f1 : 0.80067, recall : 0.80427, iou : 0.67300, dice : 0.80067\u001b[0m"
     ]
    },
    {
     "name": "stderr",
     "output_type": "stream",
     "text": [
      "Epoch 19, lr 0.05: 100%|██████████| 74576/74576 [11:47<00:00, 105.35it/s, loss=0.19477]\n"
     ]
    },
    {
     "name": "stdout",
     "output_type": "stream",
     "text": [
      "\u001b[1;37m>>\u001b[KPy-OneLiner : \u001b[36mLoss\u001b[0m : \u001b[30mtrain: 0.19476519998162986, validation: 0.1650003083141557\u001b[0m\n",
      "\u001b[1;37m>>\u001b[KPy-OneLiner : \u001b[36mTrain Metric\u001b[0m : \u001b[30mprecision : 0.77830, f1 : 0.75370, recall : 0.75184, iou : 0.61913, dice : 0.75370\u001b[0m\n",
      "\u001b[1;37m>>\u001b[KPy-OneLiner : \u001b[36mValid Metric\u001b[0m : \u001b[30mprecision : 0.81548, f1 : 0.81119, recall : 0.81463, iou : 0.68806, dice : 0.81119\u001b[0m"
     ]
    },
    {
     "name": "stderr",
     "output_type": "stream",
     "text": [
      "Epoch 20, lr 0.05: 100%|██████████| 74576/74576 [11:45<00:00, 105.73it/s, loss=0.20857]\n"
     ]
    },
    {
     "name": "stdout",
     "output_type": "stream",
     "text": [
      "\u001b[1;37m>>\u001b[KPy-OneLiner : \u001b[36mLoss\u001b[0m : \u001b[30mtrain: 0.2085700549185276, validation: 0.18797700828155214\u001b[0m\n",
      "\u001b[1;37m>>\u001b[KPy-OneLiner : \u001b[36mTrain Metric\u001b[0m : \u001b[30mprecision : 0.78059, f1 : 0.75674, recall : 0.75534, iou : 0.62311, dice : 0.75674\u001b[0m\n",
      "\u001b[1;37m>>\u001b[KPy-OneLiner : \u001b[36mValid Metric\u001b[0m : \u001b[30mprecision : 0.74704, f1 : 0.79398, recall : 0.85644, iou : 0.66395, dice : 0.79398\u001b[0m"
     ]
    },
    {
     "name": "stderr",
     "output_type": "stream",
     "text": [
      "Epoch 21, lr 0.05: 100%|██████████| 74576/74576 [11:47<00:00, 105.41it/s, loss=0.21083]\n"
     ]
    },
    {
     "name": "stdout",
     "output_type": "stream",
     "text": [
      "\u001b[1;37m>>\u001b[KPy-OneLiner : \u001b[36mLoss\u001b[0m : \u001b[30mtrain: 0.21082692638039588, validation: 0.1629434898991336\u001b[0m\n",
      "\u001b[1;37m>>\u001b[KPy-OneLiner : \u001b[36mTrain Metric\u001b[0m : \u001b[30mprecision : 0.78021, f1 : 0.75665, recall : 0.75600, iou : 0.62307, dice : 0.75665\u001b[0m\n",
      "\u001b[1;37m>>\u001b[KPy-OneLiner : \u001b[36mValid Metric\u001b[0m : \u001b[30mprecision : 0.80206, f1 : 0.81457, recall : 0.83469, iou : 0.69260, dice : 0.81457\u001b[0m"
     ]
    },
    {
     "name": "stderr",
     "output_type": "stream",
     "text": [
      "Epoch 22, lr 0.05: 100%|██████████| 74576/74576 [11:41<00:00, 106.31it/s, loss=0.21809]\n"
     ]
    },
    {
     "name": "stdout",
     "output_type": "stream",
     "text": [
      "\u001b[1;37m>>\u001b[KPy-OneLiner : \u001b[36mLoss\u001b[0m : \u001b[30mtrain: 0.2180850299447775, validation: 0.1692181311479929\u001b[0mm\n",
      "\u001b[1;37m>>\u001b[KPy-OneLiner : \u001b[36mTrain Metric\u001b[0m : \u001b[30mprecision : 0.78280, f1 : 0.75825, recall : 0.75621, iou : 0.62525, dice : 0.75825\u001b[0m\n",
      "\u001b[1;37m>>\u001b[KPy-OneLiner : \u001b[36mValid Metric\u001b[0m : \u001b[30mprecision : 0.81335, f1 : 0.80588, recall : 0.80715, iou : 0.68032, dice : 0.80588\u001b[0m"
     ]
    },
    {
     "name": "stderr",
     "output_type": "stream",
     "text": [
      "Epoch 23, lr 0.05: 100%|██████████| 74576/74576 [11:48<00:00, 105.22it/s, loss=0.19450]\n"
     ]
    },
    {
     "name": "stdout",
     "output_type": "stream",
     "text": [
      "\u001b[1;37m>>\u001b[KPy-OneLiner : \u001b[36mLoss\u001b[0m : \u001b[30mtrain: 0.19449934370815755, validation: 0.16722362058195456\u001b[0m\n",
      "\u001b[1;37m>>\u001b[KPy-OneLiner : \u001b[36mTrain Metric\u001b[0m : \u001b[30mprecision : 0.78709, f1 : 0.76248, recall : 0.75921, iou : 0.63029, dice : 0.76248\u001b[0m\n",
      "\u001b[1;37m>>\u001b[KPy-OneLiner : \u001b[36mValid Metric\u001b[0m : \u001b[30mprecision : 0.83925, f1 : 0.80715, recall : 0.78550, iou : 0.68293, dice : 0.80715\u001b[0m"
     ]
    },
    {
     "name": "stderr",
     "output_type": "stream",
     "text": [
      "Epoch 24, lr 0.05: 100%|██████████| 74576/74576 [11:50<00:00, 105.00it/s, loss=0.19734]\n"
     ]
    },
    {
     "name": "stdout",
     "output_type": "stream",
     "text": [
      "\u001b[1;37m>>\u001b[KPy-OneLiner : \u001b[36mLoss\u001b[0m : \u001b[30mtrain: 0.19734232254326345, validation: 0.16800408295801833\u001b[0m\n",
      "\u001b[1;37m>>\u001b[KPy-OneLiner : \u001b[36mTrain Metric\u001b[0m : \u001b[30mprecision : 0.78256, f1 : 0.75830, recall : 0.75686, iou : 0.62541, dice : 0.75830\u001b[0m\n",
      "\u001b[1;37m>>\u001b[KPy-OneLiner : \u001b[36mValid Metric\u001b[0m : \u001b[30mprecision : 0.81942, f1 : 0.80752, recall : 0.80351, iou : 0.68251, dice : 0.80752\u001b[0m"
     ]
    },
    {
     "name": "stderr",
     "output_type": "stream",
     "text": [
      "Epoch 25, lr 0.05: 100%|██████████| 74576/74576 [11:48<00:00, 105.22it/s, loss=0.19266]\n"
     ]
    },
    {
     "name": "stdout",
     "output_type": "stream",
     "text": [
      "\u001b[1;37m>>\u001b[KPy-OneLiner : \u001b[36mLoss\u001b[0m : \u001b[30mtrain: 0.1926592930778861, validation: 0.1597993319074125\u001b[0mm\n",
      "\u001b[1;37m>>\u001b[KPy-OneLiner : \u001b[36mTrain Metric\u001b[0m : \u001b[30mprecision : 0.78776, f1 : 0.76489, recall : 0.76309, iou : 0.63327, dice : 0.76489\u001b[0m\n",
      "\u001b[1;37m>>\u001b[KPy-OneLiner : \u001b[36mValid Metric\u001b[0m : \u001b[30mprecision : 0.82320, f1 : 0.81754, recall : 0.81933, iou : 0.69635, dice : 0.81754\u001b[0m"
     ]
    },
    {
     "name": "stderr",
     "output_type": "stream",
     "text": [
      "Epoch 26, lr 0.05: 100%|██████████| 74576/74576 [11:46<00:00, 105.60it/s, loss=0.22884]\n"
     ]
    },
    {
     "name": "stdout",
     "output_type": "stream",
     "text": [
      "\u001b[1;37m>>\u001b[KPy-OneLiner : \u001b[36mLoss\u001b[0m : \u001b[30mtrain: 0.22884336553514004, validation: 0.17474183297901302\u001b[0m\n",
      "\u001b[1;37m>>\u001b[KPy-OneLiner : \u001b[36mTrain Metric\u001b[0m : \u001b[30mprecision : 0.78951, f1 : 0.76629, recall : 0.76403, iou : 0.63483, dice : 0.76629\u001b[0m\n",
      "\u001b[1;37m>>\u001b[KPy-OneLiner : \u001b[36mValid Metric\u001b[0m : \u001b[30mprecision : 0.81942, f1 : 0.80098, recall : 0.79220, iou : 0.67429, dice : 0.80098\u001b[0m"
     ]
    },
    {
     "name": "stderr",
     "output_type": "stream",
     "text": [
      "Epoch 27, lr 0.05: 100%|██████████| 74576/74576 [11:47<00:00, 105.34it/s, loss=0.20607]\n"
     ]
    },
    {
     "name": "stdout",
     "output_type": "stream",
     "text": [
      "\u001b[1;37m>>\u001b[KPy-OneLiner : \u001b[36mLoss\u001b[0m : \u001b[30mtrain: 0.20606576569378376, validation: 0.1671907405052021\u001b[0m\n",
      "\u001b[1;37m>>\u001b[KPy-OneLiner : \u001b[36mTrain Metric\u001b[0m : \u001b[30mprecision : 0.78342, f1 : 0.75910, recall : 0.75787, iou : 0.62672, dice : 0.75910\u001b[0m\n",
      "\u001b[1;37m>>\u001b[KPy-OneLiner : \u001b[36mValid Metric\u001b[0m : \u001b[30mprecision : 0.82482, f1 : 0.80814, recall : 0.80055, iou : 0.68430, dice : 0.80814\u001b[0m"
     ]
    },
    {
     "name": "stderr",
     "output_type": "stream",
     "text": [
      "Epoch 28, lr 0.05: 100%|██████████| 74576/74576 [11:48<00:00, 105.30it/s, loss=0.22002]\n"
     ]
    },
    {
     "name": "stdout",
     "output_type": "stream",
     "text": [
      "\u001b[1;37m>>\u001b[KPy-OneLiner : \u001b[36mLoss\u001b[0m : \u001b[30mtrain: 0.2200222110748291, validation: 0.16292306596246295\u001b[0m\n",
      "\u001b[1;37m>>\u001b[KPy-OneLiner : \u001b[36mTrain Metric\u001b[0m : \u001b[30mprecision : 0.78997, f1 : 0.76735, recall : 0.76568, iou : 0.63658, dice : 0.76735\u001b[0m\n",
      "\u001b[1;37m>>\u001b[KPy-OneLiner : \u001b[36mValid Metric\u001b[0m : \u001b[30mprecision : 0.80438, f1 : 0.81415, recall : 0.83257, iou : 0.69258, dice : 0.81415\u001b[0m"
     ]
    },
    {
     "name": "stderr",
     "output_type": "stream",
     "text": [
      "Epoch 29, lr 0.05: 100%|██████████| 74576/74576 [11:43<00:00, 105.98it/s, loss=0.19526]"
     ]
    },
    {
     "name": "stdout",
     "output_type": "stream",
     "text": [
      "\u001b[1;37m>>\u001b[KPy-OneLiner : \u001b[36mValidation\u001b[0m : \u001b[30m1/2856 ETA -- 0:Days 0:Hours 0:Minutes 52:Seconds\u001b[0m"
     ]
    },
    {
     "name": "stderr",
     "output_type": "stream",
     "text": [
      "\n"
     ]
    },
    {
     "name": "stdout",
     "output_type": "stream",
     "text": [
      "\u001b[1;37m>>\u001b[KPy-OneLiner : \u001b[36mLoss\u001b[0m : \u001b[30mtrain: 0.19525791831314565, validation: 0.15417493351262992\u001b[0m\n",
      "\u001b[1;37m>>\u001b[KPy-OneLiner : \u001b[36mTrain Metric\u001b[0m : \u001b[30mprecision : 0.78988, f1 : 0.76735, recall : 0.76604, iou : 0.63639, dice : 0.76735\u001b[0m\n",
      "\u001b[1;37m>>\u001b[KPy-OneLiner : \u001b[36mValid Metric\u001b[0m : \u001b[30mprecision : 0.83306, f1 : 0.82351, recall : 0.82013, iou : 0.70502, dice : 0.82351\u001b[0m"
     ]
    },
    {
     "name": "stderr",
     "output_type": "stream",
     "text": [
      "Epoch 30, lr 0.05: 100%|██████████| 74576/74576 [11:46<00:00, 105.57it/s, loss=0.18758]\n"
     ]
    },
    {
     "name": "stdout",
     "output_type": "stream",
     "text": [
      "\u001b[1;37m>>\u001b[KPy-OneLiner : \u001b[36mLoss\u001b[0m : \u001b[30mtrain: 0.1875838452577591, validation: 0.15279933423748246\u001b[0m\n",
      "\u001b[1;37m>>\u001b[KPy-OneLiner : \u001b[36mTrain Metric\u001b[0m : \u001b[30mprecision : 0.79230, f1 : 0.77006, recall : 0.76849, iou : 0.64009, dice : 0.77006\u001b[0m\n",
      "\u001b[1;37m>>\u001b[KPy-OneLiner : \u001b[36mValid Metric\u001b[0m : \u001b[30mprecision : 0.80928, f1 : 0.82684, recall : 0.85187, iou : 0.70998, dice : 0.82684\u001b[0m"
     ]
    },
    {
     "name": "stderr",
     "output_type": "stream",
     "text": [
      "Epoch 31, lr 0.05: 100%|██████████| 74576/74576 [11:44<00:00, 105.92it/s, loss=0.19686]\n"
     ]
    },
    {
     "name": "stdout",
     "output_type": "stream",
     "text": [
      "\u001b[1;37m>>\u001b[KPy-OneLiner : \u001b[36mLoss\u001b[0m : \u001b[30mtrain: 0.19685903053730727, validation: 0.16676762577078463\u001b[0m\n",
      "\u001b[1;37m>>\u001b[KPy-OneLiner : \u001b[36mTrain Metric\u001b[0m : \u001b[30mprecision : 0.79690, f1 : 0.77401, recall : 0.77096, iou : 0.64422, dice : 0.77401\u001b[0m\n",
      "\u001b[1;37m>>\u001b[KPy-OneLiner : \u001b[36mValid Metric\u001b[0m : \u001b[30mprecision : 0.80843, f1 : 0.80903, recall : 0.81936, iou : 0.68584, dice : 0.80903\u001b[0m"
     ]
    },
    {
     "name": "stderr",
     "output_type": "stream",
     "text": [
      "Epoch 32, lr 0.05: 100%|██████████| 74576/74576 [11:48<00:00, 105.33it/s, loss=0.19000]\n"
     ]
    },
    {
     "name": "stdout",
     "output_type": "stream",
     "text": [
      "\u001b[1;37m>>\u001b[KPy-OneLiner : \u001b[36mLoss\u001b[0m : \u001b[30mtrain: 0.1900012479349971, validation: 0.15473392072162417\u001b[0m\n",
      "\u001b[1;37m>>\u001b[KPy-OneLiner : \u001b[36mTrain Metric\u001b[0m : \u001b[30mprecision : 0.79797, f1 : 0.77583, recall : 0.77319, iou : 0.64728, dice : 0.77583\u001b[0m\n",
      "\u001b[1;37m>>\u001b[KPy-OneLiner : \u001b[36mValid Metric\u001b[0m : \u001b[30mprecision : 0.82969, f1 : 0.82428, recall : 0.82544, iou : 0.70612, dice : 0.82428\u001b[0m"
     ]
    },
    {
     "name": "stderr",
     "output_type": "stream",
     "text": [
      "Epoch 33, lr 0.05: 100%|██████████| 74576/74576 [11:49<00:00, 105.16it/s, loss=0.18910]\n"
     ]
    },
    {
     "name": "stdout",
     "output_type": "stream",
     "text": [
      "\u001b[1;37m>>\u001b[KPy-OneLiner : \u001b[36mLoss\u001b[0m : \u001b[30mtrain: 0.18910429894924163, validation: 0.15351195965961395\u001b[0m\n",
      "\u001b[1;37m>>\u001b[KPy-OneLiner : \u001b[36mTrain Metric\u001b[0m : \u001b[30mprecision : 0.79916, f1 : 0.77669, recall : 0.77321, iou : 0.64821, dice : 0.77669\u001b[0m\n",
      "\u001b[1;37m>>\u001b[KPy-OneLiner : \u001b[36mValid Metric\u001b[0m : \u001b[30mprecision : 0.83032, f1 : 0.82475, recall : 0.82566, iou : 0.70648, dice : 0.82475\u001b[0m"
     ]
    },
    {
     "name": "stderr",
     "output_type": "stream",
     "text": [
      "Epoch 34, lr 0.05: 100%|██████████| 74576/74576 [11:45<00:00, 105.72it/s, loss=0.19197]\n"
     ]
    },
    {
     "name": "stdout",
     "output_type": "stream",
     "text": [
      "\u001b[1;37m>>\u001b[KPy-OneLiner : \u001b[36mLoss\u001b[0m : \u001b[30mtrain: 0.19196889977902173, validation: 0.15775962868517562\u001b[0m\n",
      "\u001b[1;37m>>\u001b[KPy-OneLiner : \u001b[36mTrain Metric\u001b[0m : \u001b[30mprecision : 0.79891, f1 : 0.77791, recall : 0.77667, iou : 0.65051, dice : 0.77791\u001b[0m\n",
      "\u001b[1;37m>>\u001b[KPy-OneLiner : \u001b[36mValid Metric\u001b[0m : \u001b[30mprecision : 0.80634, f1 : 0.82085, recall : 0.84299, iou : 0.70111, dice : 0.82085\u001b[0m"
     ]
    },
    {
     "name": "stderr",
     "output_type": "stream",
     "text": [
      "Epoch 35, lr 0.05: 100%|██████████| 74576/74576 [11:46<00:00, 105.60it/s, loss=0.18651]\n"
     ]
    },
    {
     "name": "stdout",
     "output_type": "stream",
     "text": [
      "\u001b[1;37m>>\u001b[KPy-OneLiner : \u001b[36mLoss\u001b[0m : \u001b[30mtrain: 0.1865123037993908, validation: 0.15485839015629446\u001b[0m\n",
      "\u001b[1;37m>>\u001b[KPy-OneLiner : \u001b[36mTrain Metric\u001b[0m : \u001b[30mprecision : 0.80022, f1 : 0.77838, recall : 0.77647, iou : 0.65055, dice : 0.77838\u001b[0m\n",
      "\u001b[1;37m>>\u001b[KPy-OneLiner : \u001b[36mValid Metric\u001b[0m : \u001b[30mprecision : 0.81136, f1 : 0.82659, recall : 0.84992, iou : 0.70988, dice : 0.82659\u001b[0m"
     ]
    },
    {
     "name": "stderr",
     "output_type": "stream",
     "text": [
      "Epoch 36, lr 0.05: 100%|██████████| 74576/74576 [11:45<00:00, 105.64it/s, loss=0.20378]\n"
     ]
    },
    {
     "name": "stdout",
     "output_type": "stream",
     "text": [
      "\u001b[1;37m>>\u001b[KPy-OneLiner : \u001b[36mLoss\u001b[0m : \u001b[30mtrain: 0.203778146058321, validation: 0.1501364205084762\u001b[0mmm\n",
      "\u001b[1;37m>>\u001b[KPy-OneLiner : \u001b[36mTrain Metric\u001b[0m : \u001b[30mprecision : 0.80039, f1 : 0.77971, recall : 0.77833, iou : 0.65207, dice : 0.77971\u001b[0m\n",
      "\u001b[1;37m>>\u001b[KPy-OneLiner : \u001b[36mValid Metric\u001b[0m : \u001b[30mprecision : 0.81986, f1 : 0.82909, recall : 0.84540, iou : 0.71310, dice : 0.82909\u001b[0m"
     ]
    },
    {
     "name": "stderr",
     "output_type": "stream",
     "text": [
      "Epoch 37, lr 0.05: 100%|██████████| 74576/74576 [11:47<00:00, 105.45it/s, loss=0.20269]\n"
     ]
    },
    {
     "name": "stdout",
     "output_type": "stream",
     "text": [
      "\u001b[1;37m>>\u001b[KPy-OneLiner : \u001b[36mLoss\u001b[0m : \u001b[30mtrain: 0.2026876452565193, validation: 0.1593332981797723\u001b[0mm\n",
      "\u001b[1;37m>>\u001b[KPy-OneLiner : \u001b[36mTrain Metric\u001b[0m : \u001b[30mprecision : 0.79936, f1 : 0.77876, recall : 0.77709, iou : 0.65108, dice : 0.77876\u001b[0m\n",
      "\u001b[1;37m>>\u001b[KPy-OneLiner : \u001b[36mValid Metric\u001b[0m : \u001b[30mprecision : 0.79279, f1 : 0.82002, recall : 0.85656, iou : 0.69970, dice : 0.82002\u001b[0m"
     ]
    },
    {
     "name": "stderr",
     "output_type": "stream",
     "text": [
      "Epoch 38, lr 0.05: 100%|██████████| 74576/74576 [11:46<00:00, 105.62it/s, loss=0.18569]\n"
     ]
    },
    {
     "name": "stdout",
     "output_type": "stream",
     "text": [
      "\u001b[1;37m>>\u001b[KPy-OneLiner : \u001b[36mLoss\u001b[0m : \u001b[30mtrain: 0.18568788662552835, validation: 0.1509920224137813\u001b[0m\n",
      "\u001b[1;37m>>\u001b[KPy-OneLiner : \u001b[36mTrain Metric\u001b[0m : \u001b[30mprecision : 0.79940, f1 : 0.78014, recall : 0.77915, iou : 0.65305, dice : 0.78014\u001b[0m\n",
      "\u001b[1;37m>>\u001b[KPy-OneLiner : \u001b[36mValid Metric\u001b[0m : \u001b[30mprecision : 0.82917, f1 : 0.82760, recall : 0.83252, iou : 0.71137, dice : 0.82760\u001b[0m"
     ]
    },
    {
     "name": "stderr",
     "output_type": "stream",
     "text": [
      "Epoch 39, lr 0.05: 100%|██████████| 74576/74576 [11:47<00:00, 105.44it/s, loss=0.17553]\n"
     ]
    },
    {
     "name": "stdout",
     "output_type": "stream",
     "text": [
      "\u001b[1;37m>>\u001b[KPy-OneLiner : \u001b[36mLoss\u001b[0m : \u001b[30mtrain: 0.17552798975259065, validation: 0.1515856877344997\u001b[0m\n",
      "\u001b[1;37m>>\u001b[KPy-OneLiner : \u001b[36mTrain Metric\u001b[0m : \u001b[30mprecision : 0.80105, f1 : 0.78047, recall : 0.77868, iou : 0.65338, dice : 0.78047\u001b[0m\n",
      "\u001b[1;37m>>\u001b[KPy-OneLiner : \u001b[36mValid Metric\u001b[0m : \u001b[30mprecision : 0.81466, f1 : 0.82801, recall : 0.84816, iou : 0.71124, dice : 0.82801\u001b[0m"
     ]
    },
    {
     "name": "stderr",
     "output_type": "stream",
     "text": [
      "Epoch 40, lr 0.05: 100%|██████████| 74576/74576 [11:46<00:00, 105.52it/s, loss=0.19501]\n"
     ]
    },
    {
     "name": "stdout",
     "output_type": "stream",
     "text": [
      "\u001b[1;37m>>\u001b[KPy-OneLiner : \u001b[36mLoss\u001b[0m : \u001b[30mtrain: 0.1950065414607525, validation: 0.1514052865225874\u001b[0mm\n",
      "\u001b[1;37m>>\u001b[KPy-OneLiner : \u001b[36mTrain Metric\u001b[0m : \u001b[30mprecision : 0.80022, f1 : 0.78076, recall : 0.78006, iou : 0.65365, dice : 0.78076\u001b[0m\n",
      "\u001b[1;37m>>\u001b[KPy-OneLiner : \u001b[36mValid Metric\u001b[0m : \u001b[30mprecision : 0.82668, f1 : 0.82725, recall : 0.83456, iou : 0.71087, dice : 0.82725\u001b[0m"
     ]
    },
    {
     "name": "stderr",
     "output_type": "stream",
     "text": [
      "Epoch 41, lr 0.05: 100%|██████████| 74576/74576 [11:46<00:00, 105.63it/s, loss=0.19177]\n"
     ]
    },
    {
     "name": "stdout",
     "output_type": "stream",
     "text": [
      "\u001b[1;37m>>\u001b[KPy-OneLiner : \u001b[36mLoss\u001b[0m : \u001b[30mtrain: 0.1917672960832715, validation: 0.15182956195950342\u001b[0m\n",
      "\u001b[1;37m>>\u001b[KPy-OneLiner : \u001b[36mTrain Metric\u001b[0m : \u001b[30mprecision : 0.80244, f1 : 0.78347, recall : 0.78267, iou : 0.65731, dice : 0.78347\u001b[0m\n",
      "\u001b[1;37m>>\u001b[KPy-OneLiner : \u001b[36mValid Metric\u001b[0m : \u001b[30mprecision : 0.84828, f1 : 0.82573, recall : 0.81114, iou : 0.70810, dice : 0.82573\u001b[0m"
     ]
    },
    {
     "name": "stderr",
     "output_type": "stream",
     "text": [
      "Epoch 42, lr 0.05: 100%|██████████| 74576/74576 [11:46<00:00, 105.50it/s, loss=0.19260]\n"
     ]
    },
    {
     "name": "stdout",
     "output_type": "stream",
     "text": [
      "\u001b[1;37m>>\u001b[KPy-OneLiner : \u001b[36mLoss\u001b[0m : \u001b[30mtrain: 0.19259910851716996, validation: 0.15061909660790898\u001b[0m\n",
      "\u001b[1;37m>>\u001b[KPy-OneLiner : \u001b[36mTrain Metric\u001b[0m : \u001b[30mprecision : 0.80128, f1 : 0.78010, recall : 0.77871, iou : 0.65308, dice : 0.78010\u001b[0m\n",
      "\u001b[1;37m>>\u001b[KPy-OneLiner : \u001b[36mValid Metric\u001b[0m : \u001b[30mprecision : 0.81382, f1 : 0.82888, recall : 0.85089, iou : 0.71270, dice : 0.82888\u001b[0m"
     ]
    },
    {
     "name": "stderr",
     "output_type": "stream",
     "text": [
      "Epoch 43, lr 0.05: 100%|██████████| 74576/74576 [11:47<00:00, 105.41it/s, loss=0.19364]\n"
     ]
    },
    {
     "name": "stdout",
     "output_type": "stream",
     "text": [
      "\u001b[1;37m>>\u001b[KPy-OneLiner : \u001b[36mLoss\u001b[0m : \u001b[30mtrain: 0.19363620594143868, validation: 0.15970945518062102\u001b[0m\n",
      "\u001b[1;37m>>\u001b[KPy-OneLiner : \u001b[36mTrain Metric\u001b[0m : \u001b[30mprecision : 0.80322, f1 : 0.78469, recall : 0.78452, iou : 0.65845, dice : 0.78469\u001b[0m\n",
      "\u001b[1;37m>>\u001b[KPy-OneLiner : \u001b[36mValid Metric\u001b[0m : \u001b[30mprecision : 0.78752, f1 : 0.82055, recall : 0.86434, iou : 0.70150, dice : 0.82055\u001b[0m"
     ]
    },
    {
     "name": "stderr",
     "output_type": "stream",
     "text": [
      "Epoch 44, lr 0.05: 100%|██████████| 74576/74576 [11:47<00:00, 105.35it/s, loss=0.21639]\n"
     ]
    },
    {
     "name": "stdout",
     "output_type": "stream",
     "text": [
      "\u001b[1;37m>>\u001b[KPy-OneLiner : \u001b[36mLoss\u001b[0m : \u001b[30mtrain: 0.2163856763765216, validation: 0.14904772254171408\u001b[0m\n",
      "\u001b[1;37m>>\u001b[KPy-OneLiner : \u001b[36mTrain Metric\u001b[0m : \u001b[30mprecision : 0.80366, f1 : 0.78433, recall : 0.78362, iou : 0.65839, dice : 0.78433\u001b[0m\n",
      "\u001b[1;37m>>\u001b[KPy-OneLiner : \u001b[36mValid Metric\u001b[0m : \u001b[30mprecision : 0.82430, f1 : 0.83110, recall : 0.84498, iou : 0.71656, dice : 0.83110\u001b[0m"
     ]
    },
    {
     "name": "stderr",
     "output_type": "stream",
     "text": [
      "Epoch 45, lr 0.05: 100%|██████████| 74576/74576 [11:49<00:00, 105.08it/s, loss=0.19983]\n"
     ]
    },
    {
     "name": "stdout",
     "output_type": "stream",
     "text": [
      "\u001b[1;37m>>\u001b[KPy-OneLiner : \u001b[36mLoss\u001b[0m : \u001b[30mtrain: 0.1998284897953272, validation: 0.15465445016805573\u001b[0m\n",
      "\u001b[1;37m>>\u001b[KPy-OneLiner : \u001b[36mTrain Metric\u001b[0m : \u001b[30mprecision : 0.80589, f1 : 0.78617, recall : 0.78450, iou : 0.66091, dice : 0.78617\u001b[0m\n",
      "\u001b[1;37m>>\u001b[KPy-OneLiner : \u001b[36mValid Metric\u001b[0m : \u001b[30mprecision : 0.81670, f1 : 0.82378, recall : 0.83805, iou : 0.70536, dice : 0.82378\u001b[0m"
     ]
    },
    {
     "name": "stderr",
     "output_type": "stream",
     "text": [
      "Epoch 46, lr 0.05: 100%|██████████| 74576/74576 [11:47<00:00, 105.40it/s, loss=0.18458]"
     ]
    },
    {
     "name": "stdout",
     "output_type": "stream",
     "text": [
      "\u001b[1;37m>>\u001b[KPy-OneLiner : \u001b[36mValidation\u001b[0m : \u001b[30m1/2856 ETA -- 0:Days 0:Hours 0:Minutes 59:Seconds\u001b[0m"
     ]
    },
    {
     "name": "stderr",
     "output_type": "stream",
     "text": [
      "\n"
     ]
    },
    {
     "name": "stdout",
     "output_type": "stream",
     "text": [
      "\u001b[1;37m>>\u001b[KPy-OneLiner : \u001b[36mLoss\u001b[0m : \u001b[30mtrain: 0.1845827667042613, validation: 0.15219637067565897\u001b[0m\n",
      "\u001b[1;37m>>\u001b[KPy-OneLiner : \u001b[36mTrain Metric\u001b[0m : \u001b[30mprecision : 0.80575, f1 : 0.78556, recall : 0.78403, iou : 0.65987, dice : 0.78556\u001b[0m\n",
      "\u001b[1;37m>>\u001b[KPy-OneLiner : \u001b[36mValid Metric\u001b[0m : \u001b[30mprecision : 0.81263, f1 : 0.82730, recall : 0.84936, iou : 0.71027, dice : 0.82730\u001b[0m"
     ]
    },
    {
     "name": "stderr",
     "output_type": "stream",
     "text": [
      "Epoch 47, lr 0.05: 100%|██████████| 74576/74576 [12:29<00:00, 99.45it/s, loss=0.18808] \n"
     ]
    },
    {
     "name": "stdout",
     "output_type": "stream",
     "text": [
      "\u001b[1;37m>>\u001b[KPy-OneLiner : \u001b[36mLoss\u001b[0m : \u001b[30mtrain: 0.18807616841048003, validation: 0.15062144185554663\u001b[0m\n",
      "\u001b[1;37m>>\u001b[KPy-OneLiner : \u001b[36mTrain Metric\u001b[0m : \u001b[30mprecision : 0.80690, f1 : 0.78641, recall : 0.78432, iou : 0.66069, dice : 0.78641\u001b[0m\n",
      "\u001b[1;37m>>\u001b[KPy-OneLiner : \u001b[36mValid Metric\u001b[0m : \u001b[30mprecision : 0.80522, f1 : 0.82956, recall : 0.86232, iou : 0.71385, dice : 0.82956\u001b[0m"
     ]
    },
    {
     "name": "stderr",
     "output_type": "stream",
     "text": [
      "Epoch 48, lr 0.05: 100%|██████████| 74576/74576 [11:47<00:00, 105.42it/s, loss=0.19319]\n"
     ]
    },
    {
     "name": "stdout",
     "output_type": "stream",
     "text": [
      "\u001b[1;37m>>\u001b[KPy-OneLiner : \u001b[36mLoss\u001b[0m : \u001b[30mtrain: 0.19319223068654537, validation: 0.1495569179705879\u001b[0m\n",
      "\u001b[1;37m>>\u001b[KPy-OneLiner : \u001b[36mTrain Metric\u001b[0m : \u001b[30mprecision : 0.80510, f1 : 0.78564, recall : 0.78380, iou : 0.66016, dice : 0.78564\u001b[0m\n",
      "\u001b[1;37m>>\u001b[KPy-OneLiner : \u001b[36mValid Metric\u001b[0m : \u001b[30mprecision : 0.81468, f1 : 0.83084, recall : 0.85429, iou : 0.71569, dice : 0.83084\u001b[0m"
     ]
    },
    {
     "name": "stderr",
     "output_type": "stream",
     "text": [
      "Epoch 49, lr 0.05: 100%|██████████| 74576/74576 [11:48<00:00, 105.23it/s, loss=0.18548]\n"
     ]
    },
    {
     "name": "stdout",
     "output_type": "stream",
     "text": [
      "\u001b[1;37m>>\u001b[KPy-OneLiner : \u001b[36mLoss\u001b[0m : \u001b[30mtrain: 0.1854779173247516, validation: 0.1522094449321857\u001b[0mm\n",
      "\u001b[1;37m>>\u001b[KPy-OneLiner : \u001b[36mTrain Metric\u001b[0m : \u001b[30mprecision : 0.80135, f1 : 0.78055, recall : 0.77939, iou : 0.65394, dice : 0.78055\u001b[0m\n",
      "\u001b[1;37m>>\u001b[KPy-OneLiner : \u001b[36mValid Metric\u001b[0m : \u001b[30mprecision : 0.80259, f1 : 0.82806, recall : 0.86180, iou : 0.71154, dice : 0.82806\u001b[0m"
     ]
    },
    {
     "name": "stderr",
     "output_type": "stream",
     "text": [
      "Epoch 50, lr 0.05: 100%|██████████| 74576/74576 [11:48<00:00, 105.26it/s, loss=0.18525]\n"
     ]
    },
    {
     "name": "stdout",
     "output_type": "stream",
     "text": [
      "\u001b[1;37m>>\u001b[KPy-OneLiner : \u001b[36mLoss\u001b[0m : \u001b[30mtrain: 0.18525019098073245, validation: 0.14720604808985435\u001b[0m\n",
      "\u001b[1;37m>>\u001b[KPy-OneLiner : \u001b[36mTrain Metric\u001b[0m : \u001b[30mprecision : 0.80631, f1 : 0.78695, recall : 0.78467, iou : 0.66153, dice : 0.78695\u001b[0m\n",
      "\u001b[1;37m>>\u001b[KPy-OneLiner : \u001b[36mValid Metric\u001b[0m : \u001b[30mprecision : 0.85380, f1 : 0.83066, recall : 0.81499, iou : 0.71555, dice : 0.83066\u001b[0m"
     ]
    },
    {
     "name": "stderr",
     "output_type": "stream",
     "text": [
      "Epoch 51, lr 0.05: 100%|██████████| 74576/74576 [11:49<00:00, 105.04it/s, loss=0.19168]\n"
     ]
    },
    {
     "name": "stdout",
     "output_type": "stream",
     "text": [
      "\u001b[1;37m>>\u001b[KPy-OneLiner : \u001b[36mLoss\u001b[0m : \u001b[30mtrain: 0.1916835269331932, validation: 0.17057661592167297\u001b[0m\n",
      "\u001b[1;37m>>\u001b[KPy-OneLiner : \u001b[36mTrain Metric\u001b[0m : \u001b[30mprecision : 0.80768, f1 : 0.78788, recall : 0.78584, iou : 0.66250, dice : 0.78788\u001b[0m\n",
      "\u001b[1;37m>>\u001b[KPy-OneLiner : \u001b[36mValid Metric\u001b[0m : \u001b[30mprecision : 0.84865, f1 : 0.80270, recall : 0.77224, iou : 0.67764, dice : 0.80270\u001b[0m"
     ]
    },
    {
     "name": "stderr",
     "output_type": "stream",
     "text": [
      "Epoch 52, lr 0.05: 100%|██████████| 74576/74576 [11:48<00:00, 105.24it/s, loss=0.17514]\n"
     ]
    },
    {
     "name": "stdout",
     "output_type": "stream",
     "text": [
      "\u001b[1;37m>>\u001b[KPy-OneLiner : \u001b[36mLoss\u001b[0m : \u001b[30mtrain: 0.17513746932148933, validation: 0.14268265130110502\u001b[0m\n",
      "\u001b[1;37m>>\u001b[KPy-OneLiner : \u001b[36mTrain Metric\u001b[0m : \u001b[30mprecision : 0.80500, f1 : 0.78608, recall : 0.78543, iou : 0.66077, dice : 0.78608\u001b[0m\n",
      "\u001b[1;37m>>\u001b[KPy-OneLiner : \u001b[36mValid Metric\u001b[0m : \u001b[30mprecision : 0.84954, f1 : 0.83643, recall : 0.82923, iou : 0.72381, dice : 0.83643\u001b[0m"
     ]
    },
    {
     "name": "stderr",
     "output_type": "stream",
     "text": [
      "Epoch 53, lr 0.05: 100%|██████████| 74576/74576 [11:46<00:00, 105.54it/s, loss=0.17465]\n"
     ]
    },
    {
     "name": "stdout",
     "output_type": "stream",
     "text": [
      "\u001b[1;37m>>\u001b[KPy-OneLiner : \u001b[36mLoss\u001b[0m : \u001b[30mtrain: 0.17464841123670338, validation: 0.14404457191681014\u001b[0m\n",
      "\u001b[1;37m>>\u001b[KPy-OneLiner : \u001b[36mTrain Metric\u001b[0m : \u001b[30mprecision : 0.80929, f1 : 0.79032, recall : 0.78903, iou : 0.66638, dice : 0.79032\u001b[0m\n",
      "\u001b[1;37m>>\u001b[KPy-OneLiner : \u001b[36mValid Metric\u001b[0m : \u001b[30mprecision : 0.83661, f1 : 0.83586, recall : 0.84078, iou : 0.72280, dice : 0.83586\u001b[0m"
     ]
    },
    {
     "name": "stderr",
     "output_type": "stream",
     "text": [
      "Epoch 54, lr 0.05: 100%|██████████| 74576/74576 [11:45<00:00, 105.69it/s, loss=0.17656]\n"
     ]
    },
    {
     "name": "stdout",
     "output_type": "stream",
     "text": [
      "\u001b[1;37m>>\u001b[KPy-OneLiner : \u001b[36mLoss\u001b[0m : \u001b[30mtrain: 0.1765551573038101, validation: 0.15199888008842324\u001b[0m\n",
      "\u001b[1;37m>>\u001b[KPy-OneLiner : \u001b[36mTrain Metric\u001b[0m : \u001b[30mprecision : 0.81181, f1 : 0.79361, recall : 0.79217, iou : 0.66969, dice : 0.79361\u001b[0m\n",
      "\u001b[1;37m>>\u001b[KPy-OneLiner : \u001b[36mValid Metric\u001b[0m : \u001b[30mprecision : 0.83688, f1 : 0.82633, recall : 0.82338, iou : 0.70964, dice : 0.82633\u001b[0m"
     ]
    },
    {
     "name": "stderr",
     "output_type": "stream",
     "text": [
      "Epoch 55, lr 0.05: 100%|██████████| 74576/74576 [11:43<00:00, 105.98it/s, loss=0.20015]\n"
     ]
    },
    {
     "name": "stdout",
     "output_type": "stream",
     "text": [
      "\u001b[1;37m>>\u001b[KPy-OneLiner : \u001b[36mLoss\u001b[0m : \u001b[30mtrain: 0.2001465595513582, validation: 0.14712292390956389\u001b[0m\n",
      "\u001b[1;37m>>\u001b[KPy-OneLiner : \u001b[36mTrain Metric\u001b[0m : \u001b[30mprecision : 0.81151, f1 : 0.79305, recall : 0.79153, iou : 0.66959, dice : 0.79305\u001b[0m\n",
      "\u001b[1;37m>>\u001b[KPy-OneLiner : \u001b[36mValid Metric\u001b[0m : \u001b[30mprecision : 0.82417, f1 : 0.83217, recall : 0.84693, iou : 0.71782, dice : 0.83217\u001b[0m"
     ]
    },
    {
     "name": "stderr",
     "output_type": "stream",
     "text": [
      "Epoch 56, lr 0.05: 100%|██████████| 74576/74576 [11:44<00:00, 105.88it/s, loss=0.18631]"
     ]
    },
    {
     "name": "stdout",
     "output_type": "stream",
     "text": [
      "\u001b[1;37m>>\u001b[KPy-OneLiner : \u001b[36mValidation\u001b[0m : \u001b[30m1/2856 ETA -- 0:Days 0:Hours 1:Minutes 7:Seconds\u001b[0m"
     ]
    },
    {
     "name": "stderr",
     "output_type": "stream",
     "text": [
      "\n"
     ]
    },
    {
     "name": "stdout",
     "output_type": "stream",
     "text": [
      "\u001b[1;37m>>\u001b[KPy-OneLiner : \u001b[36mLoss\u001b[0m : \u001b[30mtrain: 0.18631110467016698, validation: 0.14479504257025777\u001b[0m\n",
      "\u001b[1;37m>>\u001b[KPy-OneLiner : \u001b[36mTrain Metric\u001b[0m : \u001b[30mprecision : 0.81310, f1 : 0.79549, recall : 0.79370, iou : 0.67239, dice : 0.79549\u001b[0m\n",
      "\u001b[1;37m>>\u001b[KPy-OneLiner : \u001b[36mValid Metric\u001b[0m : \u001b[30mprecision : 0.83723, f1 : 0.83482, recall : 0.83872, iou : 0.72158, dice : 0.83482\u001b[0m"
     ]
    },
    {
     "name": "stderr",
     "output_type": "stream",
     "text": [
      "Epoch 57, lr 0.05: 100%|██████████| 74576/74576 [11:45<00:00, 105.64it/s, loss=0.21510]\n"
     ]
    },
    {
     "name": "stdout",
     "output_type": "stream",
     "text": [
      "\u001b[1;37m>>\u001b[KPy-OneLiner : \u001b[36mLoss\u001b[0m : \u001b[30mtrain: 0.21509569704532625, validation: 0.15133919483520278\u001b[0m\n",
      "\u001b[1;37m>>\u001b[KPy-OneLiner : \u001b[36mTrain Metric\u001b[0m : \u001b[30mprecision : 0.80835, f1 : 0.79078, recall : 0.79108, iou : 0.66691, dice : 0.79078\u001b[0m\n",
      "\u001b[1;37m>>\u001b[KPy-OneLiner : \u001b[36mValid Metric\u001b[0m : \u001b[30mprecision : 0.83779, f1 : 0.82798, recall : 0.82476, iou : 0.71132, dice : 0.82798\u001b[0m"
     ]
    },
    {
     "name": "stderr",
     "output_type": "stream",
     "text": [
      "Epoch 58, lr 0.05: 100%|██████████| 74576/74576 [11:45<00:00, 105.65it/s, loss=0.16470]\n"
     ]
    },
    {
     "name": "stdout",
     "output_type": "stream",
     "text": [
      "\u001b[1;37m>>\u001b[KPy-OneLiner : \u001b[36mLoss\u001b[0m : \u001b[30mtrain: 0.1647029857710004, validation: 0.14312356537734927\u001b[0m\n",
      "\u001b[1;37m>>\u001b[KPy-OneLiner : \u001b[36mTrain Metric\u001b[0m : \u001b[30mprecision : 0.81058, f1 : 0.79218, recall : 0.79027, iou : 0.66857, dice : 0.79218\u001b[0m\n",
      "\u001b[1;37m>>\u001b[KPy-OneLiner : \u001b[36mValid Metric\u001b[0m : \u001b[30mprecision : 0.83107, f1 : 0.83709, recall : 0.85003, iou : 0.72497, dice : 0.83709\u001b[0m"
     ]
    },
    {
     "name": "stderr",
     "output_type": "stream",
     "text": [
      "Epoch 59, lr 0.05: 100%|██████████| 74576/74576 [11:47<00:00, 105.40it/s, loss=0.18908]\n"
     ]
    },
    {
     "name": "stdout",
     "output_type": "stream",
     "text": [
      "\u001b[1;37m>>\u001b[KPy-OneLiner : \u001b[36mLoss\u001b[0m : \u001b[30mtrain: 0.18908460987731815, validation: 0.14259544561202286\u001b[0m\n",
      "\u001b[1;37m>>\u001b[KPy-OneLiner : \u001b[36mTrain Metric\u001b[0m : \u001b[30mprecision : 0.80995, f1 : 0.79144, recall : 0.78946, iou : 0.66736, dice : 0.79144\u001b[0m\n",
      "\u001b[1;37m>>\u001b[KPy-OneLiner : \u001b[36mValid Metric\u001b[0m : \u001b[30mprecision : 0.82905, f1 : 0.83837, recall : 0.85346, iou : 0.72651, dice : 0.83837\u001b[0m"
     ]
    },
    {
     "name": "stderr",
     "output_type": "stream",
     "text": [
      "Epoch 60, lr 0.05: 100%|██████████| 74576/74576 [11:44<00:00, 105.86it/s, loss=0.18367]\n"
     ]
    },
    {
     "name": "stdout",
     "output_type": "stream",
     "text": [
      "\u001b[1;37m>>\u001b[KPy-OneLiner : \u001b[36mLoss\u001b[0m : \u001b[30mtrain: 0.18366891566663981, validation: 0.14524917526128872\u001b[0m\n",
      "\u001b[1;37m>>\u001b[KPy-OneLiner : \u001b[36mTrain Metric\u001b[0m : \u001b[30mprecision : 0.80907, f1 : 0.79288, recall : 0.79342, iou : 0.66959, dice : 0.79288\u001b[0m\n",
      "\u001b[1;37m>>\u001b[KPy-OneLiner : \u001b[36mValid Metric\u001b[0m : \u001b[30mprecision : 0.82860, f1 : 0.83573, recall : 0.84930, iou : 0.72279, dice : 0.83573\u001b[0m"
     ]
    },
    {
     "name": "stderr",
     "output_type": "stream",
     "text": [
      "Epoch 61, lr 0.05: 100%|██████████| 74576/74576 [11:49<00:00, 105.06it/s, loss=0.18210]\n"
     ]
    },
    {
     "name": "stdout",
     "output_type": "stream",
     "text": [
      "\u001b[1;37m>>\u001b[KPy-OneLiner : \u001b[36mLoss\u001b[0m : \u001b[30mtrain: 0.18209854148328306, validation: 0.14597040924037538\u001b[0m\n",
      "\u001b[1;37m>>\u001b[KPy-OneLiner : \u001b[36mTrain Metric\u001b[0m : \u001b[30mprecision : 0.80986, f1 : 0.79123, recall : 0.79016, iou : 0.66745, dice : 0.79123\u001b[0m\n",
      "\u001b[1;37m>>\u001b[KPy-OneLiner : \u001b[36mValid Metric\u001b[0m : \u001b[30mprecision : 0.82047, f1 : 0.83403, recall : 0.85448, iou : 0.72042, dice : 0.83403\u001b[0m"
     ]
    },
    {
     "name": "stderr",
     "output_type": "stream",
     "text": [
      "Epoch 62, lr 0.05: 100%|██████████| 74576/74576 [11:48<00:00, 105.22it/s, loss=0.17253]\n"
     ]
    },
    {
     "name": "stdout",
     "output_type": "stream",
     "text": [
      "\u001b[1;37m>>\u001b[KPy-OneLiner : \u001b[36mLoss\u001b[0m : \u001b[30mtrain: 0.17253226801753044, validation: 0.1420289862637489\u001b[0m\n",
      "\u001b[1;37m>>\u001b[KPy-OneLiner : \u001b[36mTrain Metric\u001b[0m : \u001b[30mprecision : 0.81215, f1 : 0.79535, recall : 0.79465, iou : 0.67238, dice : 0.79535\u001b[0m\n",
      "\u001b[1;37m>>\u001b[KPy-OneLiner : \u001b[36mValid Metric\u001b[0m : \u001b[30mprecision : 0.82380, f1 : 0.83921, recall : 0.86135, iou : 0.72804, dice : 0.83921\u001b[0m"
     ]
    },
    {
     "name": "stderr",
     "output_type": "stream",
     "text": [
      "Epoch 63, lr 0.05: 100%|██████████| 74576/74576 [11:44<00:00, 105.83it/s, loss=0.18224]\n"
     ]
    },
    {
     "name": "stdout",
     "output_type": "stream",
     "text": [
      "\u001b[1;37m>>\u001b[KPy-OneLiner : \u001b[36mLoss\u001b[0m : \u001b[30mtrain: 0.18224238608032464, validation: 0.1430123731760042\u001b[0m\n",
      "\u001b[1;37m>>\u001b[KPy-OneLiner : \u001b[36mTrain Metric\u001b[0m : \u001b[30mprecision : 0.81215, f1 : 0.79580, recall : 0.79663, iou : 0.67339, dice : 0.79580\u001b[0m\n",
      "\u001b[1;37m>>\u001b[KPy-OneLiner : \u001b[36mValid Metric\u001b[0m : \u001b[30mprecision : 0.83485, f1 : 0.83711, recall : 0.84537, iou : 0.72494, dice : 0.83711\u001b[0m"
     ]
    },
    {
     "name": "stderr",
     "output_type": "stream",
     "text": [
      "Epoch 64, lr 0.05: 100%|██████████| 74576/74576 [11:47<00:00, 105.43it/s, loss=0.17332]\n"
     ]
    },
    {
     "name": "stdout",
     "output_type": "stream",
     "text": [
      "\u001b[1;37m>>\u001b[KPy-OneLiner : \u001b[36mLoss\u001b[0m : \u001b[30mtrain: 0.17331686891615392, validation: 0.15385666834216574\u001b[0m\n",
      "\u001b[1;37m>>\u001b[KPy-OneLiner : \u001b[36mTrain Metric\u001b[0m : \u001b[30mprecision : 0.81461, f1 : 0.79795, recall : 0.79736, iou : 0.67622, dice : 0.79795\u001b[0m\n",
      "\u001b[1;37m>>\u001b[KPy-OneLiner : \u001b[36mValid Metric\u001b[0m : \u001b[30mprecision : 0.86493, f1 : 0.82462, recall : 0.79470, iou : 0.70717, dice : 0.82462\u001b[0m"
     ]
    },
    {
     "name": "stderr",
     "output_type": "stream",
     "text": [
      "Epoch 65, lr 0.05: 100%|██████████| 74576/74576 [11:50<00:00, 105.02it/s, loss=0.17866]\n"
     ]
    },
    {
     "name": "stdout",
     "output_type": "stream",
     "text": [
      "\u001b[1;37m>>\u001b[KPy-OneLiner : \u001b[36mLoss\u001b[0m : \u001b[30mtrain: 0.1786626298353076, validation: 0.14204980741471512\u001b[0m\n",
      "\u001b[1;37m>>\u001b[KPy-OneLiner : \u001b[36mTrain Metric\u001b[0m : \u001b[30mprecision : 0.81450, f1 : 0.79719, recall : 0.79625, iou : 0.67488, dice : 0.79719\u001b[0m\n",
      "\u001b[1;37m>>\u001b[KPy-OneLiner : \u001b[36mValid Metric\u001b[0m : \u001b[30mprecision : 0.83766, f1 : 0.83831, recall : 0.84508, iou : 0.72649, dice : 0.83831\u001b[0m"
     ]
    },
    {
     "name": "stderr",
     "output_type": "stream",
     "text": [
      "Epoch 66, lr 0.05: 100%|██████████| 74576/74576 [11:49<00:00, 105.11it/s, loss=0.17605]\n"
     ]
    },
    {
     "name": "stdout",
     "output_type": "stream",
     "text": [
      "\u001b[1;37m>>\u001b[KPy-OneLiner : \u001b[36mLoss\u001b[0m : \u001b[30mtrain: 0.17605094194412232, validation: 0.1446791413091436\u001b[0m\n",
      "\u001b[1;37m>>\u001b[KPy-OneLiner : \u001b[36mTrain Metric\u001b[0m : \u001b[30mprecision : 0.81324, f1 : 0.79583, recall : 0.79483, iou : 0.67334, dice : 0.79583\u001b[0m\n",
      "\u001b[1;37m>>\u001b[KPy-OneLiner : \u001b[36mValid Metric\u001b[0m : \u001b[30mprecision : 0.81315, f1 : 0.83678, recall : 0.86804, iou : 0.72401, dice : 0.83678\u001b[0m"
     ]
    },
    {
     "name": "stderr",
     "output_type": "stream",
     "text": [
      "Epoch 67, lr 0.05: 100%|██████████| 74576/74576 [11:52<00:00, 104.70it/s, loss=0.17628]\n"
     ]
    },
    {
     "name": "stdout",
     "output_type": "stream",
     "text": [
      "\u001b[1;37m>>\u001b[KPy-OneLiner : \u001b[36mLoss\u001b[0m : \u001b[30mtrain: 0.17628315549343823, validation: 0.14355785890380626\u001b[0m\n",
      "\u001b[1;37m>>\u001b[KPy-OneLiner : \u001b[36mTrain Metric\u001b[0m : \u001b[30mprecision : 0.81654, f1 : 0.79928, recall : 0.79774, iou : 0.67751, dice : 0.79928\u001b[0m\n",
      "\u001b[1;37m>>\u001b[KPy-OneLiner : \u001b[36mValid Metric\u001b[0m : \u001b[30mprecision : 0.83150, f1 : 0.83681, recall : 0.84839, iou : 0.72422, dice : 0.83681\u001b[0m"
     ]
    },
    {
     "name": "stderr",
     "output_type": "stream",
     "text": [
      "Epoch 68, lr 0.05: 100%|██████████| 74576/74576 [11:50<00:00, 104.97it/s, loss=0.18270]\n"
     ]
    },
    {
     "name": "stdout",
     "output_type": "stream",
     "text": [
      "\u001b[1;37m>>\u001b[KPy-OneLiner : \u001b[36mLoss\u001b[0m : \u001b[30mtrain: 0.18270425166934728, validation: 0.14426621451585211\u001b[0m\n",
      "\u001b[1;37m>>\u001b[KPy-OneLiner : \u001b[36mTrain Metric\u001b[0m : \u001b[30mprecision : 0.81473, f1 : 0.79877, recall : 0.79830, iou : 0.67713, dice : 0.79877\u001b[0m\n",
      "\u001b[1;37m>>\u001b[KPy-OneLiner : \u001b[36mValid Metric\u001b[0m : \u001b[30mprecision : 0.83267, f1 : 0.83579, recall : 0.84560, iou : 0.72306, dice : 0.83579\u001b[0m"
     ]
    },
    {
     "name": "stderr",
     "output_type": "stream",
     "text": [
      "Epoch 69, lr 0.05: 100%|██████████| 74576/74576 [11:50<00:00, 104.94it/s, loss=0.16042]\n"
     ]
    },
    {
     "name": "stdout",
     "output_type": "stream",
     "text": [
      "\u001b[1;37m>>\u001b[KPy-OneLiner : \u001b[36mLoss\u001b[0m : \u001b[30mtrain: 0.16041698902845383, validation: 0.14016552296263643\u001b[0m\n",
      "\u001b[1;37m>>\u001b[KPy-OneLiner : \u001b[36mTrain Metric\u001b[0m : \u001b[30mprecision : 0.81556, f1 : 0.80054, recall : 0.80139, iou : 0.67927, dice : 0.80054\u001b[0m\n",
      "\u001b[1;37m>>\u001b[KPy-OneLiner : \u001b[36mValid Metric\u001b[0m : \u001b[30mprecision : 0.83278, f1 : 0.84048, recall : 0.85453, iou : 0.72985, dice : 0.84048\u001b[0m\n",
      "\u001b[1;37m>>\u001b[KPy-OneLiner : Training Complete\n",
      "\u001b[1;37m>>\u001b[KPy-OneLiner : \u001b[36mRun Time\u001b[0m : \u001b[30m0:Days 17:Hours 17:Minutes 49:Seconds\u001b[0m"
     ]
    }
   ],
   "source": [
    "trainer.train(start_epoch=0, end_epoch=70)"
   ]
  },
  {
   "attachments": {},
   "cell_type": "markdown",
   "metadata": {},
   "source": [
    "### Resuming Training\n"
   ]
  },
  {
   "attachments": {},
   "cell_type": "markdown",
   "metadata": {},
   "source": [
    "70번까진 batch 8, 120번까진 batch 16"
   ]
  },
  {
   "cell_type": "code",
   "execution_count": 8,
   "metadata": {},
   "outputs": [
    {
     "name": "stderr",
     "output_type": "stream",
     "text": [
      "Epoch 118, lr 0.05: 100%|██████████| 74576/74576 [10:25<00:00, 119.30it/s, loss=0.16353]"
     ]
    },
    {
     "name": "stdout",
     "output_type": "stream",
     "text": [
      "\u001b[1;37m>>\u001b[KPy-OneLiner : \u001b[36mValidation\u001b[0m : \u001b[30m1/1428 ETA -- 0:Days 0:Hours 1:Minutes 4:Seconds\u001b[0m"
     ]
    },
    {
     "name": "stderr",
     "output_type": "stream",
     "text": [
      "\n"
     ]
    },
    {
     "name": "stdout",
     "output_type": "stream",
     "text": [
      "\u001b[1;37m>>\u001b[KPy-OneLiner : \u001b[36mLoss\u001b[0m : \u001b[30mtrain: 0.1635326200723648, validation: 0.1312586806730187\u001b[0mm\n",
      "\u001b[1;37m>>\u001b[KPy-OneLiner : \u001b[36mTrain Metric\u001b[0m : \u001b[30mprecision : 0.84574, f1 : 0.83672, recall : 0.83365, iou : 0.72418, dice : 0.83672\u001b[0m\n",
      "\u001b[1;37m>>\u001b[KPy-OneLiner : \u001b[36mValid Metric\u001b[0m : \u001b[30mprecision : 0.84497, f1 : 0.85093, recall : 0.86019, iou : 0.74306, dice : 0.85093\u001b[0m"
     ]
    },
    {
     "name": "stderr",
     "output_type": "stream",
     "text": [
      "Epoch 119, lr 0.05: 100%|██████████| 74576/74576 [09:55<00:00, 125.18it/s, loss=0.13708]"
     ]
    },
    {
     "name": "stdout",
     "output_type": "stream",
     "text": [
      "\u001b[1;37m>>\u001b[KPy-OneLiner : \u001b[36mValidation\u001b[0m : \u001b[30m1/1428 ETA -- 0:Days 0:Hours 0:Minutes 55:Seconds\u001b[0m"
     ]
    },
    {
     "name": "stderr",
     "output_type": "stream",
     "text": [
      "\n"
     ]
    },
    {
     "name": "stdout",
     "output_type": "stream",
     "text": [
      "\u001b[1;37m>>\u001b[KPy-OneLiner : \u001b[36mLoss\u001b[0m : \u001b[30mtrain: 0.13707527238875628, validation: 0.12488776505650843\u001b[0m\n",
      "\u001b[1;37m>>\u001b[KPy-OneLiner : \u001b[36mTrain Metric\u001b[0m : \u001b[30mprecision : 0.84522, f1 : 0.83601, recall : 0.83341, iou : 0.72343, dice : 0.83601\u001b[0m\n",
      "\u001b[1;37m>>\u001b[KPy-OneLiner : \u001b[36mValid Metric\u001b[0m : \u001b[30mprecision : 0.85966, f1 : 0.85768, recall : 0.85872, iou : 0.75348, dice : 0.85768\u001b[0m\n",
      "\u001b[1;37m>>\u001b[KPy-OneLiner : Training Complete\n",
      "\u001b[1;37m>>\u001b[KPy-OneLiner : \u001b[36mRun Time\u001b[0m : \u001b[30m0:Days 0:Hours 26:Minutes 32:Seconds\u001b[0m"
     ]
    }
   ],
   "source": [
    "path_to_saved_state = r\"out_data/20230727-010621/state/default.pt\"\n",
    "\n",
    "# if new_end_epoch is None, the trainer will resume and run till end_epoch, the value of which is saved in state file \n",
    "trainer.resume(state=path_to_saved_state, new_end_epoch=120)"
   ]
  },
  {
   "cell_type": "code",
   "execution_count": null,
   "metadata": {},
   "outputs": [],
   "source": []
  }
 ],
 "metadata": {
  "kernelspec": {
   "display_name": "Python 3 (ipykernel)",
   "language": "python",
   "name": "python3"
  },
  "language_info": {
   "codemirror_mode": {
    "name": "ipython",
    "version": 3
   },
   "file_extension": ".py",
   "mimetype": "text/x-python",
   "name": "python",
   "nbconvert_exporter": "python",
   "pygments_lexer": "ipython3",
   "version": "3.8.15"
  }
 },
 "nbformat": 4,
 "nbformat_minor": 4
}
